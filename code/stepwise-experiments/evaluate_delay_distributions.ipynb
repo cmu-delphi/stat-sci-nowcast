{
 "cells": [
  {
   "cell_type": "markdown",
   "id": "92553830",
   "metadata": {},
   "source": [
    "# Delay distribution analysis"
   ]
  },
  {
   "cell_type": "code",
   "execution_count": null,
   "id": "7d6cfc9f",
   "metadata": {},
   "outputs": [],
   "source": [
    "# standard\n",
    "import pickle\n",
    "from datetime import timedelta, date\n",
    "\n",
    "# third party\n",
    "import numpy as np\n",
    "import matplotlib.pyplot as plt\n",
    "import pandas as pd\n",
    "import seaborn as sns\n",
    "from matplotlib.dates import DateFormatter\n",
    "\n",
    "# first party\n",
    "from config import Config"
   ]
  },
  {
   "cell_type": "code",
   "execution_count": null,
   "id": "a6ca4328",
   "metadata": {},
   "outputs": [],
   "source": [
    "naive_dir = \"../data/naive_delay_distributions\"\n",
    "km_dir = \"../data/km_delay_distributions\""
   ]
  },
  {
   "cell_type": "code",
   "execution_count": null,
   "id": "e6933234",
   "metadata": {},
   "outputs": [],
   "source": [
    "truth_pmfs = pickle.load(open(f'{naive_dir}/uncensored_delay_distribution.p', 'rb'))"
   ]
  },
  {
   "cell_type": "code",
   "execution_count": null,
   "id": "a66c8694",
   "metadata": {},
   "outputs": [],
   "source": [
    "all_errors = []\n",
    "d = Config.max_delay_days\n",
    "days_back = Config.distribution_support\n",
    "as_of_range = [d.date() for d in pd.date_range(date(2020, 10, 1), date(2021, 2, 1))]\n",
    "\n",
    "for lag in days_back:\n",
    "    errors = {'KM-adjusted': np.full((len(as_of_range), d+1), np.nan),\n",
    "              'Naive': np.full((len(as_of_range), d+1), np.nan)}\n",
    "    for i, as_of in enumerate(as_of_range):\n",
    "        naive_pmfs = pickle.load(open(f'{naive_dir}/delay_distribution_as_of_{as_of}.p', 'rb'))\n",
    "        km_pmfs = pickle.load(open(f'{km_dir}/delay_distribution_as_of_{as_of}.p', 'rb'))\n",
    "        onset_date = as_of - timedelta(int(lag)) # 0 for the date with the most trucation\n",
    "        naive_pmf = naive_pmfs[onset_date]\n",
    "        km_pmf = km_pmfs[onset_date]\n",
    "        truth_pmf = truth_pmfs[onset_date]\n",
    "        errors['KM-adjusted'][i, :] = np.abs(truth_pmf - km_pmf)\n",
    "        errors['Naive'][i, :] = np.abs(truth_pmf - naive_pmf)\n",
    "\n",
    "    err_df = []\n",
    "    for k, v in errors.items():\n",
    "        tmp = pd.DataFrame(v, index=as_of_range).reset_index()\n",
    "        tmp = tmp.melt(id_vars=['index'], \n",
    "                        var_name='delay_length', \n",
    "                        value_name='abs_err')\n",
    "        tmp['method'] = k\n",
    "        err_df.append(tmp)\n",
    "\n",
    "    err_df = pd.concat(err_df, ignore_index=True)\n",
    "    err_df['days_back'] = lag\n",
    "    all_errors.append(err_df)"
   ]
  },
  {
   "cell_type": "code",
   "execution_count": null,
   "id": "32d09a4a",
   "metadata": {},
   "outputs": [],
   "source": [
    "all_errors = pd.concat(all_errors, ignore_index=True)\n",
    "l1_summary = all_errors.groupby(['days_back', 'index', 'method']).sum().reset_index()"
   ]
  },
  {
   "cell_type": "code",
   "execution_count": null,
   "id": "c1bd85eb",
   "metadata": {},
   "outputs": [],
   "source": [
    "plt.figure(figsize=(5, 5))\n",
    "sns.lineplot(data=l1_summary,\n",
    "             x='days_back',\n",
    "             y='abs_err', \n",
    "             hue='method',\n",
    "             hue_order=['Naive', 'KM-adjusted'], \n",
    "             marker='.')\n",
    "plt.xlabel('Days back from nowcast time')\n",
    "plt.ylabel('Mean $\\ell_1$ distance')\n",
    "plt.xticks([1, 10, 20, 30, 40])\n",
    "plt.legend(title=None)\n",
    "plt.tight_layout()\n",
    "plt.savefig(f'./figures/delay_dist_error/l1_summary.pdf')\n",
    "plt.show()"
   ]
  },
  {
   "cell_type": "code",
   "execution_count": null,
   "id": "a4e9230a",
   "metadata": {},
   "outputs": [],
   "source": [
    "plt.figure(figsize=(5, 5))\n",
    "sns.lineplot(data=l1_summary[l1_summary.days_back.lt(12)],\n",
    "             x='days_back', \n",
    "             y='abs_err', \n",
    "             hue='method', \n",
    "             hue_order=['Naive', 'KM-adjusted'], \n",
    "             marker='.')\n",
    "plt.xlabel('Days back from nowcast time')\n",
    "plt.ylabel('Mean $\\ell_1$ distance')\n",
    "plt.xticks(range(1, 12, 2))\n",
    "plt.legend(title=None)\n",
    "plt.tight_layout()\n",
    "# plt.savefig(f'./figures/delay_dist_error/l1_summary.pdf')\n",
    "plt.show()"
   ]
  },
  {
   "cell_type": "code",
   "execution_count": null,
   "id": "b0d2cd1c",
   "metadata": {},
   "outputs": [],
   "source": [
    "g = sns.FacetGrid(all_errors[all_errors.delay_length.gt(0)],\n",
    "                  col='days_back', \n",
    "                  hue='method', \n",
    "                  hue_order=['Naive', 'KM-adjusted'], \n",
    "                  col_wrap=6)\n",
    "g.map(sns.lineplot, 'delay_length', 'abs_err', marker='.')\n",
    "g.set_axis_labels('Delay from onset to\\nreport (days)', 'Mean absolute error', \n",
    "                  clear_inner=False, size=14)\n",
    "g.set_titles(\"{col_name} days back\", size=14)\n",
    "g.axes[0].legend(title=None, fontsize=14)\n",
    "plt.tight_layout()\n",
    "plt.savefig(f'./figures/delay_dist_error/delay_dist_error_all_lags.pdf')\n",
    "plt.show()"
   ]
  },
  {
   "cell_type": "code",
   "execution_count": null,
   "id": "915134c6",
   "metadata": {},
   "outputs": [],
   "source": [
    "as_of_range = [d.date() for d in pd.date_range(date(2020, 11, 1), date(2020, 12, 1))]\n",
    "\n",
    "plt.figure(figsize=(5, 5))\n",
    "naive_pmfs = []\n",
    "km_pmfs = []\n",
    "ref_pmfs = []\n",
    "for as_of in as_of_range:\n",
    "    naive = pickle.load(open(f'{naive_dir}/delay_distribution_as_of_{as_of}.p', 'rb'))[as_of]\n",
    "    km = pickle.load(open(f'{km_dir}/delay_distribution_as_of_{as_of}.p', 'rb'))[as_of]\n",
    "    ref_pmf = truth_pmfs[as_of]\n",
    "\n",
    "    naive_pmfs.append(naive[1:])\n",
    "    km_pmfs.append(km[1:])\n",
    "    ref_pmfs.append(ref_pmf[1:])\n",
    "    plt.plot(ref_pmfs[-1], color='gray', alpha=0.3, lw=0.85)\n",
    "    plt.plot(naive_pmfs[-1], color='tab:blue', alpha=0.2, lw=0.85)\n",
    "    plt.plot(km_pmfs[-1], color='tab:orange', alpha=0.2, lw=0.85)\n",
    "    \n",
    "plt.plot(np.median(ref_pmfs, axis=0),\n",
    "         label='Finalized', color='black', lw=2)\n",
    "plt.plot(np.median(naive_pmfs, axis=0), color='tab:blue', \n",
    "         label='Naive', lw=1.5)\n",
    "plt.plot(np.median(km_pmfs, axis=0), color='tab:orange', \n",
    "         label='KM-adjusted', lw=1.5)\n",
    "plt.xlabel('Delay from onset to report (days)')\n",
    "plt.ylabel('Density')\n",
    "plt.xticks([1, 10, 20, 30, 40])\n",
    "plt.legend()\n",
    "plt.tight_layout()\n",
    "plt.savefig(f'./figures/delay_dist_error/range_overlay.pdf')\n",
    "plt.show()"
   ]
  },
  {
   "cell_type": "markdown",
   "id": "6a7e7096",
   "metadata": {},
   "source": [
    "## Plot quantiles"
   ]
  },
  {
   "cell_type": "code",
   "execution_count": null,
   "id": "5ab0405d",
   "metadata": {},
   "outputs": [],
   "source": [
    "def get_quantile(delay_list, tau):\n",
    "    return np.argmax(np.cumsum(delay_list) >= tau)\n",
    "\n",
    "run_date_range = [d.date() for d in pd.date_range(date(2020, 6, 1), date(2021, 6, 1))]\n",
    "q50 = [get_quantile(truth_pmfs[d], 0.5) for d in run_date_range]\n",
    "q75 = [get_quantile(truth_pmfs[d], 0.75) for d in run_date_range]\n",
    "q95 = [get_quantile(truth_pmfs[d], 0.95) for d in run_date_range]"
   ]
  },
  {
   "cell_type": "code",
   "execution_count": null,
   "id": "69c567c3",
   "metadata": {},
   "outputs": [],
   "source": [
    "fig, ax = plt.subplots(nrows=1, figsize=(5, 5))\n",
    "sns.lineplot(x=run_date_range, y=q50,\n",
    "              ax=ax, label='$q_{50}$')\n",
    "sns.lineplot(x=run_date_range, y=q75,\n",
    "             ax=ax, label='$q_{75}$')\n",
    "sns.lineplot(x=run_date_range, y=q95,\n",
    "              ax=ax, label='$q_{95}$')\n",
    "ax.legend()\n",
    "ax.set_ylabel('Delay from onset to report (days)')\n",
    "date_form = DateFormatter(\"%Y-%m\")\n",
    "ax.xaxis.set_major_locator(plt.MaxNLocator(4))\n",
    "ax.xaxis.set_major_formatter(date_form)\n",
    "ax.set_xlabel(\"Date\")\n",
    "plt.tight_layout()\n",
    "plt.savefig('./figures/finalized_delay_quantiles.pdf')"
   ]
  },
  {
   "cell_type": "code",
   "execution_count": null,
   "id": "53c581af",
   "metadata": {},
   "outputs": [],
   "source": [
    "df1 = pd.DataFrame({'Density': truth_pmfs[date(2020, 7, 1)], 'Nowcast date': date(2020, 7, 1)})\n",
    "df2 = pd.DataFrame({'Density': truth_pmfs[date(2020, 12, 1)], 'Nowcast date': date(2020, 12, 1)})\n",
    "df3 = pd.DataFrame({'Density': truth_pmfs[date(2021, 5, 1)], 'Nowcast date': date(2021, 5, 1)})\n",
    "df = pd.concat([df1, df2, df3])\n",
    "df.reset_index(inplace=True)\n",
    "df['days_back'] = df['index']\n",
    "\n",
    "fig, ax = plt.subplots(nrows=1, figsize=(5, 5))\n",
    "sns.lineplot(data=df[df.days_back.ge(1)], \n",
    "             x='days_back', y='Density', hue='Nowcast date', ax=ax)\n",
    "ax.set_xlabel('Delay from onset to report (days)')\n",
    "ax.set_xticks([1, 10, 20, 30, 40])\n",
    "plt.tight_layout()\n",
    "plt.savefig('./figures/overlay_finalized_delay_dist.pdf')"
   ]
  }
 ],
 "metadata": {
  "kernelspec": {
   "display_name": "Python 3 (ipykernel)",
   "language": "python",
   "name": "python3"
  },
  "language_info": {
   "codemirror_mode": {
    "name": "ipython",
    "version": 3
   },
   "file_extension": ".py",
   "mimetype": "text/x-python",
   "name": "python",
   "nbconvert_exporter": "python",
   "pygments_lexer": "ipython3",
   "version": "3.7.10"
  }
 },
 "nbformat": 4,
 "nbformat_minor": 5
}