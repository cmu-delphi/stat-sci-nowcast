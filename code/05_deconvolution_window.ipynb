{
 "cells": [
  {
   "cell_type": "markdown",
   "id": "24041a02",
   "metadata": {},
   "source": [
    "# Shortening the deconvolution window"
   ]
  },
  {
   "cell_type": "code",
   "execution_count": null,
   "id": "d3744217",
   "metadata": {},
   "outputs": [],
   "source": [
    "# standard\n",
    "import pickle\n",
    "import warnings\n",
    "from datetime import timedelta\n",
    "warnings.simplefilter(action='ignore', category=FutureWarning)\n",
    "\n",
    "# third party\n",
    "import numpy as np\n",
    "import matplotlib.pyplot as plt\n",
    "import pandas as pd\n",
    "import seaborn as sns\n",
    "\n",
    "# first party\n",
    "from config import Config"
   ]
  },
  {
   "cell_type": "markdown",
   "id": "73353125",
   "metadata": {},
   "source": [
    "## Read in data\n",
    "\n",
    "The results are the output of `05_deconvolution_window.p`, and should be stored in `./results/deconvolution_window/`.\n",
    "\n",
    "The comparison is with tapered NTF using the naive kernel, varying 2d, 4d, and all-past."
   ]
  },
  {
   "cell_type": "code",
   "execution_count": null,
   "id": "1f1b2eb2",
   "metadata": {},
   "outputs": [],
   "source": [
    "def to_dataframe(a_dict):\n",
    "    out = []\n",
    "    for key, val in a_dict.items():\n",
    "        if val.data is None:\n",
    "            continue\n",
    "        out.append(pd.DataFrame({'x': val.values, 'loc': val.geo_value, 'dates': val.dates}))\n",
    "    out = pd.concat(out)\n",
    "    out.set_index(['loc', 'dates'], inplace=True)\n",
    "    return out\n",
    "\n",
    "truth = to_dataframe(pickle.load(open('../data/tf_ground_truths.p', 'rb')))"
   ]
  },
  {
   "cell_type": "code",
   "execution_count": null,
   "id": "c8c66f1e",
   "metadata": {},
   "outputs": [],
   "source": [
    "storage_dir = './results/deconvolution_window/'\n",
    "as_of_date_range = Config.every_10_as_of_range"
   ]
  },
  {
   "cell_type": "code",
   "execution_count": null,
   "id": "a0e1419a",
   "metadata": {},
   "outputs": [],
   "source": [
    "training_options = {\n",
    "    '2d': 2*Config.max_delay_days, \n",
    "    '4d': 4*Config.max_delay_days,\n",
    "    'all-past': 365*10\n",
    "}\n",
    "\n",
    "output = {'2d': [], '4d': [], 'all-past': []}\n",
    "for as_of in as_of_date_range:\n",
    "    print(as_of)\n",
    "    result = pickle.load(open(f'{storage_dir}/as_of_{as_of}.p', 'rb'))\n",
    "    if len(result.keys()) != 3:\n",
    "        print('Not all options ran on', as_of, 'skipping')\n",
    "        continue \n",
    "    for option, option_length in training_options.items():\n",
    "        start_date = as_of - timedelta(option_length)\n",
    "        if start_date not in result.keys():\n",
    "            start_date = max(start_date, Config.first_data_date)\n",
    "\n",
    "        training_length = (as_of - start_date).days\n",
    "        predictions = to_dataframe(result[start_date])\n",
    "        errors = (truth - predictions).dropna().reset_index()\n",
    "        errors['as_of'] = as_of\n",
    "        output[option].append(errors)"
   ]
  },
  {
   "cell_type": "code",
   "execution_count": null,
   "id": "84d35b2f",
   "metadata": {},
   "outputs": [],
   "source": [
    "analysis = []\n",
    "for option, option_length in training_options.items():\n",
    "    all_errors = pd.concat(output[option])\n",
    "    all_errors['training'] = option\n",
    "    all_errors['abs_err'] = np.abs(all_errors.x)\n",
    "    all_errors['lag'] = (pd.to_datetime(all_errors.as_of) - all_errors.dates).dt.days \n",
    "    analysis.append(all_errors)\n",
    "    \n",
    "analysis = pd.concat(analysis, ignore_index=True)"
   ]
  },
  {
   "cell_type": "code",
   "execution_count": null,
   "id": "a1ea81f7",
   "metadata": {},
   "outputs": [],
   "source": [
    "plt.figure(figsize=(10, 5))\n",
    "sns.lineplot(\n",
    " data=analysis,\n",
    " x='lag',\n",
    " y='abs_err',\n",
    " hue='training',\n",
    " style='training',\n",
    " markers=True,\n",
    " err_kws={'alpha': 0.1}\n",
    ")\n",
    "plt.title('Effect of varying deconvolution window')\n",
    "plt.ylabel('Mean absolute error')\n",
    "plt.xlabel('Days back from nowcast time')\n",
    "plt.tight_layout()"
   ]
  },
  {
   "cell_type": "code",
   "execution_count": null,
   "id": "2def32ff",
   "metadata": {},
   "outputs": [],
   "source": [
    "plot_df = analysis[analysis.lag.le(10)]\n",
    "plot_df.replace({'2d': '$2d$', '4d': '$4d$', 'all-past': 'All past'}, inplace=True)"
   ]
  },
  {
   "cell_type": "code",
   "execution_count": null,
   "id": "ccf06c0f",
   "metadata": {},
   "outputs": [],
   "source": [
    "plt.figure(figsize=(5, 5))\n",
    "sns.lineplot(\n",
    " data=plot_df,\n",
    " x='lag',\n",
    " y='abs_err',\n",
    " hue='training',\n",
    " style='training',\n",
    " markers=True,\n",
    " err_kws={'alpha': 0.1}\n",
    ")\n",
    "plt.title('Training windows in deconvolution')\n",
    "plt.ylabel('Mean absolute error')\n",
    "plt.xlabel('Days back from nowcast time')\n",
    "plt.xticks(range(2, 11, 2))\n",
    "plt.legend(title=None)\n",
    "plt.tight_layout()\n",
    "plt.savefig('./figures/deconvolution_window_05_small_square.pdf')"
   ]
  }
 ],
 "metadata": {
  "kernelspec": {
   "display_name": "Python 3 (ipykernel)",
   "language": "python",
   "name": "python3"
  },
  "language_info": {
   "codemirror_mode": {
    "name": "ipython",
    "version": 3
   },
   "file_extension": ".py",
   "mimetype": "text/x-python",
   "name": "python",
   "nbconvert_exporter": "python",
   "pygments_lexer": "ipython3",
   "version": "3.7.10"
  }
 },
 "nbformat": 4,
 "nbformat_minor": 5
}