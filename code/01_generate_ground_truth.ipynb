{
 "cells": [
  {
   "cell_type": "markdown",
   "id": "77c23531",
   "metadata": {},
   "source": [
    "# Defining ground truth"
   ]
  },
  {
   "cell_type": "code",
   "execution_count": null,
   "id": "432d25f3",
   "metadata": {},
   "outputs": [],
   "source": [
    "# standard\n",
    "import pickle\n",
    "from datetime import timedelta\n",
    "from functools import partial\n",
    "\n",
    "# third party\n",
    "import numpy as np\n",
    "import pandas as pd\n",
    "import matplotlib.pyplot as plt\n",
    "\n",
    "# first party\n",
    "from config import Config\n",
    "from data_containers import LocationSeries\n",
    "from deconvolution import deconvolution"
   ]
  },
  {
   "cell_type": "code",
   "execution_count": null,
   "id": "935fb7cf",
   "metadata": {},
   "outputs": [],
   "source": [
    "as_of = Config.ground_truth_date\n",
    "kernel_file = \"../data/naive_delay_distributions/uncensored_delay_distribution.p\"\n",
    "kernel_dict = pickle.load(open(kernel_file, \"rb\"))\n",
    "\n",
    "convolved_truth_indicator = Config.ground_truth_indicator\n",
    "convolved_response_prefix = f'../data/jhu-csse_confirmed_incidence_prop/{convolved_truth_indicator.source}_{convolved_truth_indicator.signal}'\n",
    "convolved_ground_truth = pickle.load(open(convolved_response_prefix + f'_{as_of}.p', 'rb'))"
   ]
  },
  {
   "cell_type": "code",
   "execution_count": null,
   "id": "e71b9f4f",
   "metadata": {},
   "outputs": [],
   "source": [
    "tf = partial(\n",
    "    deconvolution.deconvolve_tf_cv,\n",
    "    k=3,\n",
    "    fit_func=partial(deconvolution.deconvolve_tf, natural=False),\n",
    "    lam_cv_grid=np.r_[np.logspace(1, 3.5, 10), [5000, 8000, 15000]],\n",
    "    gam_cv_grid=np.array([0.]),\n",
    "    verbose=False,\n",
    ")\n",
    "\n",
    "\n",
    "start_date = Config.first_data_date\n",
    "end_date = as_of -  timedelta(convolved_truth_indicator.lag)\n",
    "full_dates = pd.date_range(start_date, end_date)\n",
    "\n",
    "ground_truths = {}\n",
    "for loc, data in convolved_ground_truth.items():\n",
    "    print(data.geo_value, data.geo_type)\n",
    "    signal = data.get_data_range(start_date, end_date, 'locf')\n",
    "    out = tf(\n",
    "        y=np.array(signal),\n",
    "        x=np.arange(1, len(signal)+1),\n",
    "        kernel_dict=kernel_dict,\n",
    "        as_of_date=as_of)\n",
    "    \n",
    "    # We only store estimates up till t-2, because the convolutional reporting distribution\n",
    "    # is not supported on 0.\n",
    "    ground_truths[data.geo_value] = LocationSeries(\n",
    "        data.geo_value, data.geo_type, dict(zip(full_dates[:-1], out[:-1])))\n",
    "    \n",
    "with open(f'../data/tf_ground_truths.p', 'wb') as f:\n",
    "    pickle.dump(ground_truths, f, protocol=pickle.HIGHEST_PROTOCOL)"
   ]
  },
  {
   "cell_type": "code",
   "execution_count": null,
   "id": "8b209489",
   "metadata": {},
   "outputs": [],
   "source": [
    "len(ground_truths.keys())"
   ]
  },
  {
   "cell_type": "code",
   "execution_count": null,
   "id": "47e060ab",
   "metadata": {},
   "outputs": [],
   "source": [
    "plt.figure(figsize=(12, 5))\n",
    "plt.scatter(convolved_ground_truth[('jhu-csse', 'confirmed_incidence_prop', 'state', 'ny')].dates,\n",
    "            convolved_ground_truth[('jhu-csse', 'confirmed_incidence_prop', 'state', 'ny')].values,\n",
    "            color='gray', s=0.3, label='cases')\n",
    "plt.plot(ground_truths['ny'].dates, ground_truths['ny'].values, ls='--', label='tf')\n",
    "plt.legend()\n",
    "plt.show()"
   ]
  }
 ],
 "metadata": {
  "kernelspec": {
   "display_name": "Python 3 (ipykernel)",
   "language": "python",
   "name": "python3"
  },
  "language_info": {
   "codemirror_mode": {
    "name": "ipython",
    "version": 3
   },
   "file_extension": ".py",
   "mimetype": "text/x-python",
   "name": "python",
   "nbconvert_exporter": "python",
   "pygments_lexer": "ipython3",
   "version": "3.7.10"
  }
 },
 "nbformat": 4,
 "nbformat_minor": 5
}