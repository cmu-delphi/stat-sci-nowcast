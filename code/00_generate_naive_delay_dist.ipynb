{
 "cells": [
  {
   "cell_type": "markdown",
   "id": "eef9c5c3",
   "metadata": {},
   "source": [
    "# Generate naive delay distributions\n",
    "\n",
    "Data was downloaded from public CDC linelist on September 9, 2021.\n",
    "\n",
    "https://data.cdc.gov/Case-Surveillance/COVID-19-Case-Surveillance-Public-Use-Data/vbim-akqf\n"
   ]
  },
  {
   "cell_type": "code",
   "execution_count": null,
   "id": "71194746",
   "metadata": {},
   "outputs": [],
   "source": [
    "# standard\n",
    "import pickle\n",
    "from datetime import timedelta, date\n",
    "\n",
    "# third party\n",
    "import matplotlib.pyplot as plt\n",
    "import numpy as np\n",
    "import scipy.stats as stats\n",
    "from pandas import read_csv, date_range\n",
    "from tqdm.notebook import tqdm\n",
    "\n",
    "# first party\n",
    "from config import Config"
   ]
  },
  {
   "cell_type": "markdown",
   "id": "ab1d7937",
   "metadata": {},
   "source": [
    "## Read in linelist data."
   ]
  },
  {
   "cell_type": "code",
   "execution_count": null,
   "id": "b5bcee9b",
   "metadata": {},
   "outputs": [],
   "source": [
    "surveil_df = read_csv(\"../data/COVID-19_Case_Surveillance_Public_Use_Data_20210909.csv\",\n",
    "                      usecols=[\"cdc_report_dt\", \"onset_dt\"],\n",
    "                      parse_dates=[\"cdc_report_dt\", \"onset_dt\"])\n",
    "surveil_df.onset_dt = surveil_df.onset_dt.dt.date\n",
    "surveil_df.cdc_report_dt = surveil_df.cdc_report_dt.dt.date\n",
    "\n",
    "# Remove missing onset rows, and data prior to our assumed first reliable day of data.\n",
    "linelist = surveil_df[~surveil_df.onset_dt.isna()]\n",
    "linelist = linelist[linelist.cdc_report_dt.ge(Config.first_data_date)]"
   ]
  },
  {
   "cell_type": "markdown",
   "id": "5f24a93b",
   "metadata": {},
   "source": [
    "## Calculate reporting delays."
   ]
  },
  {
   "cell_type": "code",
   "execution_count": null,
   "id": "9e0218e9",
   "metadata": {},
   "outputs": [],
   "source": [
    "linelist['report_delay'] = (linelist.cdc_report_dt - linelist.onset_dt).dt.days\n",
    "linelist = linelist[linelist.report_delay.gt(0) & linelist.report_delay.le(Config.max_delay_days)]"
   ]
  },
  {
   "cell_type": "code",
   "execution_count": null,
   "id": "e9b07689",
   "metadata": {},
   "outputs": [],
   "source": [
    "storage_dir = '../data/naive_delay_distributions'\n",
    "d = Config.max_delay_days\n",
    "window_size = 2*d\n",
    "support = Config.distribution_support"
   ]
  },
  {
   "cell_type": "code",
   "execution_count": null,
   "id": "4c42cd82",
   "metadata": {},
   "outputs": [],
   "source": [
    "for as_of in tqdm(Config.as_of_range):\n",
    "    last_truncated = as_of - timedelta(Config.max_delay_days+1)\n",
    "    truncated_dates = [d.date() for d in date_range(last_truncated, as_of)]\n",
    "    fair_df = linelist[linelist.cdc_report_dt.lt(as_of)]\n",
    "\n",
    "    delay_dists = {}\n",
    "    t = as_of\n",
    "    for working_onset_date in truncated_dates:\n",
    "        min_date = working_onset_date - timedelta(window_size) + timedelta(1)\n",
    "        max_date = working_onset_date\n",
    "        delay_df = fair_df[fair_df.onset_dt.ge(min_date) & fair_df.onset_dt.le(max_date)]\n",
    "\n",
    "        # Calculate empirical distribution\n",
    "        emp_dist = delay_df.groupby('report_delay').onset_dt.count()\n",
    "        emp_dist = emp_dist.reindex(support, fill_value=0)\n",
    "        emp_dist /= emp_dist.sum()\n",
    "        mu = (emp_dist*support).sum()\n",
    "        var = (emp_dist*(support**2)).sum() - mu**2\n",
    "        gam = stats.gamma(mu**2 / var, loc=0, scale=(var / mu))\n",
    "        delay_dist = np.array([gam.cdf(i+1) - gam.cdf(i) for i in support])\n",
    "        delay_dist /= delay_dist.sum()\n",
    "        delay_dists[working_onset_date] = np.r_[0, delay_dist] # Add pr 0 at lag=0\n",
    "        \n",
    "    pickle.dump(delay_dists, open(f'{storage_dir}/delay_distribution_as_of_{as_of}.p', 'wb'))"
   ]
  },
  {
   "cell_type": "code",
   "execution_count": null,
   "id": "53454a3b",
   "metadata": {},
   "outputs": [],
   "source": [
    "a = pickle.load(open(f'{storage_dir}/delay_distribution_as_of_{as_of}.p', 'rb'))\n",
    "plt.plot(np.r_[0, emp_dist], label=\"empirical\")\n",
    "plt.plot(delay_dists[working_onset_date], label=\"gam from pmf\")\n",
    "plt.legend()\n",
    "plt.show()"
   ]
  },
  {
   "cell_type": "markdown",
   "id": "c20a138a",
   "metadata": {},
   "source": [
    "### Add extra past\n",
    "\n",
    "- For each working date `s` older than `d` days, we have fully observed all the possible reporting dates (no need to truncate by report date). Hence, we can simply take the rows where the symptom onset date falls in `[s - 2*d + 1, s]`. We first construct all of these pmfs, and then fill in the extra past for the training kernels."
   ]
  },
  {
   "cell_type": "code",
   "execution_count": null,
   "id": "b2c0c77d",
   "metadata": {},
   "outputs": [],
   "source": [
    "fair_df = linelist[linelist.cdc_report_dt.lt(Config.ground_truth_date)]\n",
    "fully_observed_pmfs = {}"
   ]
  },
  {
   "cell_type": "code",
   "execution_count": null,
   "id": "3277907c",
   "metadata": {},
   "outputs": [],
   "source": [
    "for run_date in tqdm(date_range(date(2020, 5, 1), Config.ground_truth_date)):\n",
    "    t = run_date.date()\n",
    "    if t in fully_observed_pmfs.keys():\n",
    "        continue\n",
    "\n",
    "        \n",
    "    min_date = t - timedelta(window_size) + timedelta(1)\n",
    "    max_date = t\n",
    "    delay_df = fair_df[fair_df.onset_dt.ge(min_date) & fair_df.onset_dt.le(max_date)]\n",
    "    assert delay_df.cdc_report_dt.max() <= t + timedelta(d)\n",
    "    \n",
    "    # Calculate empirical distribution\n",
    "    emp_dist = delay_df.groupby('report_delay').onset_dt.count()\n",
    "    emp_dist = emp_dist.reindex(support, fill_value=0)\n",
    "    emp_dist /= emp_dist.sum()\n",
    "    mu = (emp_dist*support).sum()\n",
    "    var = (emp_dist*(support**2)).sum() - mu**2\n",
    "    gam = stats.gamma(mu**2 / var, loc=0, scale=(var / mu))\n",
    "    delay_dist = np.array([gam.cdf(i+1) - gam.cdf(i) for i in support])\n",
    "    delay_dist /= delay_dist.sum()\n",
    "    fully_observed_pmfs[t] = np.r_[0, delay_dist] # Add pr 0 at lag=0"
   ]
  },
  {
   "cell_type": "code",
   "execution_count": null,
   "id": "3b35139b",
   "metadata": {},
   "outputs": [],
   "source": [
    "# Fill in delay distribution pickles\n",
    "first_data_date = date(2020, 5, 1)\n",
    "for run_date in tqdm(Config.as_of_range):\n",
    "    try:\n",
    "        pmfs = pickle.load(open(f'{storage_dir}/delay_distribution_as_of_{run_date}.p', 'rb'))\n",
    "    except Exception as e:\n",
    "        print(run_date, \"missing\")\n",
    "        continue\n",
    "\n",
    "    first_uncensored_date = run_date - timedelta(d+1) - timedelta(1)\n",
    "    if first_uncensored_date <= first_data_date:\n",
    "        print(run_date)\n",
    "        continue \n",
    "    \n",
    "    uncensored_range = [d.date() for d in date_range(first_data_date, first_uncensored_date)]\n",
    "    existing_working_dates = sorted(pmfs.keys())\n",
    "    assert run_date == existing_working_dates[-1]\n",
    "    \n",
    "    for working_onset_date in uncensored_range:\n",
    "        pmfs[working_onset_date] = fully_observed_pmfs[working_onset_date]\n",
    "        \n",
    "    assert len(pmfs) == (run_date - first_data_date).days + 1\n",
    "    pickle.dump(pmfs, \n",
    "                open(f'{storage_dir}/delay_distribution_as_of_{run_date}.p', 'wb'), \n",
    "                protocol=pickle.HIGHEST_PROTOCOL)"
   ]
  },
  {
   "cell_type": "code",
   "execution_count": null,
   "id": "13548fdc",
   "metadata": {},
   "outputs": [],
   "source": [
    "pickle.dump(fully_observed_pmfs, open(f'{storage_dir}/uncensored_delay_distribution.p', 'wb'))"
   ]
  }
 ],
 "metadata": {
  "kernelspec": {
   "display_name": "Python 3 (ipykernel)",
   "language": "python",
   "name": "python3"
  },
  "language_info": {
   "codemirror_mode": {
    "name": "ipython",
    "version": 3
   },
   "file_extension": ".py",
   "mimetype": "text/x-python",
   "name": "python",
   "nbconvert_exporter": "python",
   "pygments_lexer": "ipython3",
   "version": "3.7.10"
  }
 },
 "nbformat": 4,
 "nbformat_minor": 5
}
