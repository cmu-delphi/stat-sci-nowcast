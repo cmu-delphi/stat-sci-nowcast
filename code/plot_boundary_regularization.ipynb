{
 "cells": [
  {
   "cell_type": "markdown",
   "metadata": {},
   "source": [
    "# Plots of boundary regularization"
   ]
  },
  {
   "cell_type": "code",
   "execution_count": null,
   "metadata": {},
   "outputs": [],
   "source": [
    "# standard\n",
    "import pickle\n",
    "from collections import defaultdict\n",
    "from datetime import date, timedelta\n",
    "from functools import partial\n",
    "\n",
    "# third party\n",
    "import numpy as np\n",
    "import matplotlib.pyplot as plt\n",
    "import pandas as pd\n",
    "from matplotlib import cm\n",
    "\n",
    "# first party\n",
    "from config import Config"
   ]
  },
  {
   "cell_type": "markdown",
   "metadata": {},
   "source": [
    "## Tapered effect"
   ]
  },
  {
   "cell_type": "code",
   "execution_count": null,
   "metadata": {},
   "outputs": [],
   "source": [
    "convolved_truth_indicator = Config.ground_truth_indicator\n",
    "ds_ntf = partial(Config.deconv_fit_func, verbose=False)"
   ]
  },
  {
   "cell_type": "code",
   "execution_count": null,
   "metadata": {},
   "outputs": [],
   "source": [
    "as_of = date(2021, 2, 1)\n",
    "loc = 'ny'\n",
    "convolved_response_prefix = f'../data/jhu-csse_confirmed_incidence_prop/{convolved_truth_indicator.source}_{convolved_truth_indicator.signal}'\n",
    "convolved_ground_truth = pickle.load(open(convolved_response_prefix + f'_{as_of}.p', 'rb'))\n",
    "data = [val for val in convolved_ground_truth.values() if val.geo_value == loc][0]\n",
    "start_date = as_of-timedelta(int(4*Config.max_delay_days))\n",
    "end_date = as_of-timedelta(convolved_truth_indicator.lag)\n",
    "full_dates = pd.date_range(start_date, end_date)\n",
    "signal = np.array(data.get_data_range(start_date, end_date, 'locf'))\n",
    "\n",
    "# Set parameters\n",
    "lam = 100.\n",
    "gam_grid = ((np.logspace(0, 5, 20) - 1))\n",
    "cm_subsection = np.linspace(0, 1, gam_grid.size + 2) \n",
    "colors = [cm.nipy_spectral(x) for x in cm_subsection][::-1][1:]\n",
    "\n",
    "plt.figure(figsize=(12,  5))\n",
    "plt.axvspan(end_date-timedelta(Config.max_delay_days), end_date, \n",
    "            alpha=0.1, color='tab:gray')\n",
    "plt.scatter(full_dates, signal, label='Cases', s=4, color='darkgray')\n",
    "for i, gam in enumerate(gam_grid):\n",
    "    est_infections = ds_ntf(\n",
    "        y=signal, x=np.arange(1, len(signal)+1),\n",
    "        kernel_dict=Config.get_delay_distribution(as_of),\n",
    "        as_of_date=as_of,\n",
    "        lam_cv_grid=np.array([lam]),\n",
    "        gam_cv_grid=np.array([gam]))\n",
    "    \n",
    "    # Only up to t-2, since the convolution reporting delay is not supported on 0.\n",
    "    plt.plot(full_dates[:-1], est_infections[:-1], label=f'$\\gamma$={gam:.1f}', color=colors[i])\n",
    "\n",
    "handles, labels = plt.gca().get_legend_handles_labels()\n",
    "plt.xlim(left=end_date-timedelta(2.5*Config.max_delay_days), right=as_of)\n",
    "plt.legend(handles[:-3][::3] + handles[-3:], labels[:-3:][::3] + labels[-3:], loc='upper left', fontsize='x-small')\n",
    "plt.ylabel('Cases/infections per 100,000 people')\n",
    "plt.xlabel('Date')\n",
    "plt.title(f\"Regularized deconvolution in New York\")\n",
    "plt.tight_layout()\n",
    "plt.savefig(\"./figures/effect_tapered_ntf.pdf\")\n",
    "plt.show()"
   ]
  },
  {
   "cell_type": "markdown",
   "metadata": {},
   "source": [
    "## Comparison of all TF methods"
   ]
  },
  {
   "cell_type": "code",
   "execution_count": null,
   "metadata": {},
   "outputs": [],
   "source": [
    "def to_dataframe(a_dict):\n",
    "    out = []\n",
    "    for key, val in a_dict.items():\n",
    "        if val.data is None:\n",
    "            continue\n",
    "        out.append(pd.DataFrame({'x': val.values, 'loc': val.geo_value, 'dates': val.dates}))\n",
    "    out = pd.concat(out)\n",
    "    out.set_index(['loc', 'dates'], inplace=True)\n",
    "    return out\n",
    "\n",
    "location = 'ny'\n",
    "as_of_date_range = Config.as_of_range\n",
    "storage_dir = './results/'\n",
    "storage_dirs = [storage_dir + x for x in [\n",
    "    'natural_constraints',\n",
    "    'natural_constraints',\n",
    "    'tapered_smoothing']]\n",
    "methods = ['Trend filtering', 'Natural trend filtering', 'Natural trend filtering (tapered)']\n",
    "\n",
    "convolved_response_prefix = '../data/jhu-csse_confirmed_incidence_prop/jhu-csse_confirmed_incidence_prop'\n",
    "convolved_ground_truth = pickle.load(\n",
    "        open(convolved_response_prefix + f'_2021-06-01.p', 'rb'))\n",
    "convolved_ground_truth = convolved_ground_truth[('jhu-csse', 'confirmed_incidence_prop', 'state', location)]\n",
    "\n",
    "truth = to_dataframe(pickle.load(open('../data/tf_ground_truths.p', 'rb'))).loc[location].reset_index()"
   ]
  },
  {
   "cell_type": "code",
   "execution_count": null,
   "metadata": {},
   "outputs": [],
   "source": [
    "output = defaultdict(list)\n",
    "for as_of in as_of_date_range:\n",
    "    print(as_of)\n",
    "    for method, path in zip(methods, storage_dirs):\n",
    "        result = pickle.load(open(f'{path}/as_of_{as_of}.p', 'rb'))\n",
    "        if method == 'Trend filtering':\n",
    "            predictions = to_dataframe(result['tf'])\n",
    "        elif method == 'Natural trend filtering':\n",
    "            predictions = to_dataframe(result['ntf'])\n",
    "        elif method == 'Natural trend filtering (tapered)':\n",
    "            predictions = to_dataframe(result['ntf_tapered'])\n",
    "        else:\n",
    "            print('Unknown method')\n",
    "            break\n",
    "            \n",
    "        try:\n",
    "            loc_preds = predictions.loc[location]\n",
    "            loc_preds['as_of'] = as_of\n",
    "            output[method].append(loc_preds)\n",
    "        except Exception as e:\n",
    "            print(e)"
   ]
  },
  {
   "cell_type": "code",
   "execution_count": null,
   "metadata": {},
   "outputs": [],
   "source": [
    "fignames = ['tf', 'ntf', 'tapered_ntf']\n",
    "for name, (method, method_data) in zip(fignames, output.items()):\n",
    "    all_data = pd.concat(method_data).reset_index()\n",
    "    all_as_of = sorted(all_data.as_of.unique())[:12]\n",
    "    cm_subsection = np.linspace(0, 1, len(all_as_of) + 2) \n",
    "    colors = [cm.nipy_spectral(x) for x in cm_subsection][::-1]\n",
    "\n",
    "    plt.figure(figsize=(5, 5))\n",
    "    plt.scatter(convolved_ground_truth.dates, convolved_ground_truth.values,\n",
    "                color='tab:gray', label='Cases', alpha=0.5, s=10)\n",
    "    plt.plot(truth.dates, truth.x, color='black', ls='--', label='Finalized infections')\n",
    "    for i, as_of in enumerate(all_as_of):\n",
    "        sub_df = all_data[all_data.as_of.eq(as_of)]\n",
    "        plt.plot(sub_df.dates, sub_df.x, color=colors[i], alpha=0.5)\n",
    "\n",
    "    plt.legend()\n",
    "    plt.title(method)\n",
    "    plt.ylabel('Cases/infections per 100,000 people')\n",
    "    plt.xlim(date(2020, 12, 15), date(2021, 6, 1))\n",
    "    plt.ylim(0, 110)\n",
    "    plt.tight_layout()\n",
    "    plt.savefig(f'./figures/ny_{name}.pdf')\n",
    "    plt.show()"
   ]
  }
 ],
 "metadata": {
  "kernelspec": {
   "display_name": "Python 3 (ipykernel)",
   "language": "python",
   "name": "python3"
  },
  "language_info": {
   "codemirror_mode": {
    "name": "ipython",
    "version": 3
   },
   "file_extension": ".py",
   "mimetype": "text/x-python",
   "name": "python",
   "nbconvert_exporter": "python",
   "pygments_lexer": "ipython3",
   "version": "3.7.10"
  }
 },
 "nbformat": 4,
 "nbformat_minor": 4
}