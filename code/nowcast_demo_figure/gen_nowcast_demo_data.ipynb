{
 "cells": [
  {
   "cell_type": "code",
   "execution_count": null,
   "metadata": {},
   "outputs": [],
   "source": [
    "# standard libraries\n",
    "import pickle5 as pickle\n",
    "from datetime import timedelta, date\n",
    "from functools import partial\n",
    "\n",
    "# third party\n",
    "import numpy as np\n",
    "import matplotlib.pyplot as plt\n",
    "import pandas as pd\n",
    "from delphi_nowcast.constants import Default\n",
    "from delphi_nowcast.deconvolution import deconvolution"
   ]
  },
  {
   "cell_type": "code",
   "execution_count": null,
   "metadata": {},
   "outputs": [],
   "source": [
    "geo = 'ny'\n",
    "as_of = date(2021, 2, 8)\n",
    "ground_truth_as_of = date(2020, 8, 28)\n",
    "first_data_date = date(2020, 5, 1)\n",
    "\n",
    "# load convolved cases\n",
    "convolved_truth_indicator = Default.GROUND_TRUTH_INDICATOR\n",
    "convolved_response_prefix = f'../data/jhu-csse_confirmed_incidence_prop/{convolved_truth_indicator.source}_{convolved_truth_indicator.signal}'\n",
    "convolved_cases = pickle.load(open(convolved_response_prefix + f'_{as_of}.p', 'rb'))\n",
    "convolved_cases = convolved_cases[('jhu-csse', 'confirmed_incidence_prop', 'state', geo)]\n",
    "\n",
    "# set date range\n",
    "last_est_date = as_of - timedelta(convolved_truth_indicator.lag)\n",
    "full_dates = [d.date() for d in pd.date_range(first_data_date, last_est_date)]\n",
    "\n",
    "# load convolution delay distribution\n",
    "delay_dist = pickle.load(open(f'../data/km_delay_distributions/delay_distribution_as_of_{as_of}.p', 'rb'))\n",
    "\n",
    "# load nowcast estimates\n",
    "simple_avg = pickle.load(open(f'../data/fusion_sensors/fast_all_simple_average_{as_of}.p', 'rb'))\n",
    "simple_avg = pd.DataFrame({\n",
    "    'dates': pd.to_datetime(simple_avg[geo].dates[-10:]),\n",
    "    'Average': simple_avg[geo].values[-10:]\n",
    "})\n",
    "\n",
    "# load final infection estimates\n",
    "truth = pickle.load(open('../data/tf_ground_truths.p', 'rb'))\n",
    "final_truth = truth[geo].values\n",
    "final_full_dates = truth[geo].dates"
   ]
  },
  {
   "cell_type": "code",
   "execution_count": null,
   "metadata": {},
   "outputs": [],
   "source": [
    "# create naive estimate\n",
    "tf = partial(\n",
    "    deconvolution.deconvolve_double_smooth_tf_cv,\n",
    "    k=3,\n",
    "    fit_func=partial(deconvolution.deconvolve_double_smooth_tf_fast, natural=False),\n",
    "    gam_cv_grid=np.r_[0.],\n",
    ")\n",
    "\n",
    "convolved_cases_values = convolved_cases.get_data_range(first_data_date, last_est_date, 'locf')\n",
    "est = tf(\n",
    "    y=np.array(convolved_cases_values),\n",
    "    x=np.arange(1, len(convolved_cases_values) + 1),\n",
    "    kernel_dict=delay_dist,\n",
    "    as_of_date=as_of\n",
    ")"
   ]
  },
  {
   "cell_type": "code",
   "execution_count": null,
   "metadata": {},
   "outputs": [],
   "source": [
    "# create output dataset\n",
    "cases = pd.DataFrame.from_dict(convolved_cases.data, orient='index').reset_index()\n",
    "cases.columns = ['dates', 'cases']\n",
    "cases.dates = pd.to_datetime(cases.dates)\n",
    "\n",
    "# the delay distribution is not supported on zero, so we only can\n",
    "# produce good estimates till t-1\n",
    "infections = pd.DataFrame({'dates': pd.to_datetime(full_dates)[:-1], 'infections': est[:-1]})\n",
    "final_infections = pd.DataFrame({\n",
    "    'dates': pd.to_datetime(final_full_dates),\n",
    "    'final_infections': final_truth\n",
    "})\n",
    "\n",
    "out = pd.merge(\n",
    "    final_infections, \n",
    "    pd.merge(cases, \n",
    "             pd.merge(infections, simple_avg, on='dates', how='outer'), \n",
    "              on='dates', how='outer'),\n",
    "    on='dates', how='outer'\n",
    ")\n",
    "\n",
    "out.sort_values('dates', inplace=True)\n",
    "out['time'] = out.dates\n",
    "out.to_csv('./nowcast_demo_data.csv', index=False)"
   ]
  },
  {
   "cell_type": "code",
   "execution_count": null,
   "metadata": {},
   "outputs": [],
   "source": [
    "# write out delay distribution\n",
    "sample_delay_date = date(2020, 11, 15)\n",
    "sample_delay_dist = pickle.load(open(f'../data/km_delay_distributions/delay_distribution_as_of_{sample_delay_date}.p', 'rb'))\n",
    "pd.DataFrame(sample_delay_dist[sample_delay_date]).to_csv(f'./kernel_{sample_delay_date}.csv', index=False)"
   ]
  }
 ],
 "metadata": {
  "kernelspec": {
   "display_name": "Python 3",
   "language": "python",
   "name": "python3"
  },
  "language_info": {
   "codemirror_mode": {
    "name": "ipython",
    "version": 3
   },
   "file_extension": ".py",
   "mimetype": "text/x-python",
   "name": "python",
   "nbconvert_exporter": "python",
   "pygments_lexer": "ipython3",
   "version": "3.7.10"
  }
 },
 "nbformat": 4,
 "nbformat_minor": 5
}
